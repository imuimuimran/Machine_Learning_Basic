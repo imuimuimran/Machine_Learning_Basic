import numpy as np

# Step 1: Create vectors
vector_a = np.array([1, 2, 3])
vector_b = np.array([4, 5, 6])

# Vector Operations
print("Vector A:", vector_a)
print("Vector B:", vector_b)
print("Addition:", vector_a + vector_b)
print("Dot Product:", np.dot(vector_a, vector_b))
print("Scalar Multiplication:", 3 * vector_a)

# Step 2: Create matrices
matrix_a = np.array([[1, 2], [3, 4]])
matrix_b = np.array([[5, 6], [7, 8]])

# Matrix Operations
print("\nMatrix A:\n", matrix_a)
print("Matrix B:\n", matrix_b)
print("Matrix Addition:\n", matrix_a + matrix_b)
print("Matrix Multiplication:\n", np.dot(matrix_a, matrix_b))
print("Transpose of Matrix A:\n", np.transpose(matrix_a))
print("Inverse of Matrix A:\n", np.linalg.inv(matrix_a))

# Step 3: Combine vectors and matrices
vector_c = np.array([1, 2])
result = np.dot(matrix_a, vector_c)  # Matrix-Vector multiplication
print("\nMatrix A * Vector C:\n", result)
